{
 "cells": [
  {
   "cell_type": "code",
   "execution_count": 2,
   "id": "86490bda",
   "metadata": {},
   "outputs": [
    {
     "data": {
      "text/plain": [
       "[(1, 2, 3), (4, 5, 6)]"
      ]
     },
     "execution_count": 2,
     "metadata": {},
     "output_type": "execute_result"
    }
   ],
   "source": [
    "# [(1,2,3), (4,5,6)]\n",
    "# 첫번째 for문 : 리스트에서튜플 가져오기\n",
    "# 두번째 for문 : 튜플에서 각각 값 가져오기\n",
    "row = [(1,2,3), (4,5,6)]\n",
    "row"
   ]
  },
  {
   "cell_type": "code",
   "execution_count": 3,
   "id": "7e971b3a",
   "metadata": {},
   "outputs": [
    {
     "data": {
      "text/plain": [
       "['no1', 'no2', 'no3']"
      ]
     },
     "execution_count": 3,
     "metadata": {},
     "output_type": "execute_result"
    }
   ],
   "source": [
    "col_name = ['no1','no2','no3']\n",
    "col_name"
   ]
  },
  {
   "cell_type": "code",
   "execution_count": 9,
   "id": "1eb6ea49",
   "metadata": {},
   "outputs": [
    {
     "name": "stdout",
     "output_type": "stream",
     "text": [
      "(1, 2, 3)\n",
      "1\n",
      "2\n",
      "3\n",
      "{'no1': 1, 'no2': 2, 'no3': 3}\n",
      "(4, 5, 6)\n",
      "4\n",
      "5\n",
      "6\n",
      "{'no1': 4, 'no2': 5, 'no3': 6}\n"
     ]
    },
    {
     "data": {
      "text/plain": [
       "[{'no1': 1, 'no2': 2, 'no3': 3}, {'no1': 4, 'no2': 5, 'no3': 6}]"
      ]
     },
     "execution_count": 9,
     "metadata": {},
     "output_type": "execute_result"
    }
   ],
   "source": [
    "list_row=[]\n",
    "\n",
    "for tup in row :\n",
    "    print(tup)\n",
    "    dict_row={}\n",
    "    for i in range(len(tup)) :\n",
    "        print(tup[i])\n",
    "        dict_row[col_name[i]] = tup[i]\n",
    "    print(dict_row)\n",
    "    list_row.append(dict_row)\n",
    "    \n",
    "list_row"
   ]
  }
 ],
 "metadata": {
  "kernelspec": {
   "display_name": "Python 3 (ipykernel)",
   "language": "python",
   "name": "python3"
  },
  "language_info": {
   "codemirror_mode": {
    "name": "ipython",
    "version": 3
   },
   "file_extension": ".py",
   "mimetype": "text/x-python",
   "name": "python",
   "nbconvert_exporter": "python",
   "pygments_lexer": "ipython3",
   "version": "3.10.5"
  },
  "toc": {
   "base_numbering": 1,
   "nav_menu": {},
   "number_sections": true,
   "sideBar": true,
   "skip_h1_title": false,
   "title_cell": "Table of Contents",
   "title_sidebar": "Contents",
   "toc_cell": false,
   "toc_position": {},
   "toc_section_display": true,
   "toc_window_display": false
  }
 },
 "nbformat": 4,
 "nbformat_minor": 5
}
